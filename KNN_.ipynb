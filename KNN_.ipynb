{
 "cells": [
  {
   "cell_type": "code",
   "execution_count": 32,
   "id": "22484475",
   "metadata": {},
   "outputs": [],
   "source": [
    "import numpy as np\n",
    "import pandas as pd\n",
    "import matplotlib.pyplot as plt"
   ]
  },
  {
   "cell_type": "code",
   "execution_count": 33,
   "id": "a5d93a89",
   "metadata": {},
   "outputs": [],
   "source": [
    "filename=\"C:\\\\Users\\\\birad\\OneDrive\\\\Documents\\\\Heart_attack_Dataset_Kaggle_Notepad.csv\"\n",
    "df = pd.read_csv(filename)"
   ]
  },
  {
   "cell_type": "code",
   "execution_count": 34,
   "id": "b7cbcbca",
   "metadata": {},
   "outputs": [],
   "source": [
    "def Outliner_info(quart_v):\n",
    "    print(\"----------------for\",quart_v,\"-------------------\")\n",
    "    Q1,Q2,Q3 = df[quart_v].quantile([0.25,0.50,0.75]) \n",
    "    quartiles = [Q1,Q2,Q3]\n",
    "    IQR = Q3 - Q1\n",
    "    lower_b = Q1 - 1.5*IQR\n",
    "    upper_b = Q3 + 1.5*IQR\n",
    "    print([\"Q1\",\"Q2  \",\"Q3 \",\"IQR\",\"lower_b  \",\"upper_b\"])\n",
    "    print([Q1,Q2,Q3,IQR,lower_b,upper_b])\n",
    "    #value lesser than lower_b and values greater than upper_b are considered as outliners\n",
    "    lower_index = np.where(df[quart_v] <= lower_b)\n",
    "    upper_index = np.where(df[quart_v] >= upper_b)\n",
    "    print(\"index for lower outliners: \", lower_index)\n",
    "    print(\"index for upper outliners: \",upper_index) \n",
    "    mean = df[quart_v].mean()\n",
    "    print(\"mean of \",quart_v,\"=\",mean)\n",
    "    val_list = []\n",
    "    for val in df[quart_v]:\n",
    "        if val >= upper_b:\n",
    "            val_list.append(val)\n",
    "    print(\"val_list = \",val_list)   "
   ]
  },
  {
   "cell_type": "code",
   "execution_count": 35,
   "id": "d25faf58",
   "metadata": {},
   "outputs": [],
   "source": [
    "df1 = df.drop([85], axis = 0, inplace = False) \n",
    "df1.at[28,\"chol\"]= 369 \n",
    "df1.at[96,\"chol\"]= 369 \n",
    "df1.at[220,\"chol\"]= 369 \n",
    "df1.at[246,\"chol\"]= 369"
   ]
  },
  {
   "cell_type": "code",
   "execution_count": 36,
   "id": "2a97a847",
   "metadata": {},
   "outputs": [],
   "source": [
    "df1.drop([248,223], axis = 0, inplace = True)"
   ]
  },
  {
   "cell_type": "code",
   "execution_count": 37,
   "id": "582c947a",
   "metadata": {},
   "outputs": [],
   "source": [
    "temp_list = [  8, 101, 110, 152, 195, 203, 228, 241, 260, 266, 292]\n",
    "for i in temp_list:\n",
    "    df1.at[i,\"trtbps\"]=170"
   ]
  },
  {
   "cell_type": "code",
   "execution_count": 38,
   "id": "93da673f",
   "metadata": {},
   "outputs": [],
   "source": [
    "df1.at[272,\"thalachh\"] = 84"
   ]
  },
  {
   "cell_type": "code",
   "execution_count": 39,
   "id": "1b40338e",
   "metadata": {},
   "outputs": [],
   "source": [
    "temp_list1 = [101, 204, 220, 221, 250, 291, 295]\n",
    "for j in temp_list1:\n",
    "    df1.at[j,\"oldpeak\"]= 4.0"
   ]
  },
  {
   "cell_type": "code",
   "execution_count": 40,
   "id": "2af285b9",
   "metadata": {},
   "outputs": [],
   "source": [
    "temp_list2 = [ 92, 158, 163, 164, 251]\n",
    "for k in temp_list2:\n",
    "    df1.at[k,\"caa\"]= 3"
   ]
  },
  {
   "cell_type": "code",
   "execution_count": 41,
   "id": "efbecde0",
   "metadata": {},
   "outputs": [],
   "source": [
    "df1.at[48,\"thall\"]=1\n",
    "df1.at[281,\"thall\"]=1"
   ]
  },
  {
   "cell_type": "code",
   "execution_count": 42,
   "id": "f75bbac8",
   "metadata": {},
   "outputs": [
    {
     "data": {
      "text/html": [
       "<div>\n",
       "<style scoped>\n",
       "    .dataframe tbody tr th:only-of-type {\n",
       "        vertical-align: middle;\n",
       "    }\n",
       "\n",
       "    .dataframe tbody tr th {\n",
       "        vertical-align: top;\n",
       "    }\n",
       "\n",
       "    .dataframe thead th {\n",
       "        text-align: right;\n",
       "    }\n",
       "</style>\n",
       "<table border=\"1\" class=\"dataframe\">\n",
       "  <thead>\n",
       "    <tr style=\"text-align: right;\">\n",
       "      <th></th>\n",
       "      <th>age</th>\n",
       "      <th>sex</th>\n",
       "      <th>cp</th>\n",
       "      <th>trtbps</th>\n",
       "      <th>chol</th>\n",
       "      <th>fbs</th>\n",
       "      <th>restecg</th>\n",
       "      <th>thalachh</th>\n",
       "      <th>exng</th>\n",
       "      <th>oldpeak</th>\n",
       "      <th>slp</th>\n",
       "      <th>caa</th>\n",
       "      <th>thall</th>\n",
       "      <th>output</th>\n",
       "    </tr>\n",
       "  </thead>\n",
       "  <tbody>\n",
       "    <tr>\n",
       "      <th>164</th>\n",
       "      <td>38</td>\n",
       "      <td>1</td>\n",
       "      <td>2</td>\n",
       "      <td>138</td>\n",
       "      <td>175</td>\n",
       "      <td>0</td>\n",
       "      <td>1</td>\n",
       "      <td>173</td>\n",
       "      <td>0</td>\n",
       "      <td>0.0</td>\n",
       "      <td>2</td>\n",
       "      <td>3</td>\n",
       "      <td>2</td>\n",
       "      <td>1</td>\n",
       "    </tr>\n",
       "  </tbody>\n",
       "</table>\n",
       "</div>"
      ],
      "text/plain": [
       "     age  sex  cp  trtbps  chol  fbs  restecg  thalachh  exng  oldpeak  slp  \\\n",
       "164   38    1   2     138   175    0        1       173     0      0.0    2   \n",
       "\n",
       "     caa  thall  output  \n",
       "164    3      2       1  "
      ]
     },
     "execution_count": 42,
     "metadata": {},
     "output_type": "execute_result"
    }
   ],
   "source": [
    "duplicate_rows = df1[df1.duplicated()]\n",
    "duplicate_rows"
   ]
  },
  {
   "cell_type": "code",
   "execution_count": 43,
   "id": "33e42622",
   "metadata": {},
   "outputs": [],
   "source": [
    "df1.duplicated().sum()\n",
    "df1 = df1.drop_duplicates()"
   ]
  },
  {
   "cell_type": "markdown",
   "id": "d4efd235",
   "metadata": {},
   "source": [
    "KNN "
   ]
  },
  {
   "cell_type": "markdown",
   "id": "8ee58136",
   "metadata": {},
   "source": [
    "Feature scaling"
   ]
  },
  {
   "cell_type": "code",
   "execution_count": 44,
   "id": "d3436c75",
   "metadata": {},
   "outputs": [],
   "source": [
    "from sklearn.preprocessing import StandardScaler \n",
    "scaler = StandardScaler() \n",
    "scaler.fit(X_train) \n",
    "X_train = scaler.transform(X_train) \n",
    "X_test = scaler.transform(X_test)"
   ]
  },
  {
   "cell_type": "markdown",
   "id": "352e8ef1",
   "metadata": {},
   "source": [
    "Initial Model"
   ]
  },
  {
   "cell_type": "code",
   "execution_count": 45,
   "id": "4d9437af",
   "metadata": {},
   "outputs": [
    {
     "name": "stdout",
     "output_type": "stream",
     "text": [
      "Accuracy: 0.8333333333333334\n",
      "Precision: 0.8\n",
      "Recall: 0.9032258064516129\n",
      "F1 Score: 0.8484848484848486\n",
      "              precision    recall  f1-score   support\n",
      "\n",
      "           0       0.88      0.76      0.81        29\n",
      "           1       0.80      0.90      0.85        31\n",
      "\n",
      "    accuracy                           0.83        60\n",
      "   macro avg       0.84      0.83      0.83        60\n",
      "weighted avg       0.84      0.83      0.83        60\n",
      "\n"
     ]
    },
    {
     "name": "stderr",
     "output_type": "stream",
     "text": [
      "C:\\Users\\birad\\anaconda3\\lib\\site-packages\\sklearn\\neighbors\\_classification.py:228: FutureWarning: Unlike other reduction functions (e.g. `skew`, `kurtosis`), the default behavior of `mode` typically preserves the axis it acts along. In SciPy 1.11.0, this behavior will change: the default value of `keepdims` will become False, the `axis` over which the statistic is taken will be eliminated, and the value None will no longer be accepted. Set `keepdims` to True or False to avoid this warning.\n",
      "  mode, _ = stats.mode(_y[neigh_ind, k], axis=1)\n"
     ]
    }
   ],
   "source": [
    "from sklearn.neighbors import KNeighborsClassifier\n",
    "\n",
    "\n",
    "knn_clf = KNeighborsClassifier()\n",
    "\n",
    "\n",
    "knn_clf.fit(X_train, y_train)\n",
    "\n",
    "\n",
    "y_pred_1 = knn_clf.predict(X_test)\n",
    "\n",
    "\n",
    "\n",
    "\n",
    "from sklearn.metrics import accuracy_score, precision_score, recall_score, f1_score\n",
    "\n",
    "print(\"Accuracy:\", accuracy_score(y_test, y_pred_1))\n",
    "print(\"Precision:\", precision_score(y_test, y_pred_1))\n",
    "print(\"Recall:\", recall_score(y_test, y_pred_1))\n",
    "print(\"F1 Score:\", f1_score(y_test, y_pred_1))\n",
    "\n",
    "\n",
    "\n",
    "\n",
    "from sklearn.metrics import classification_report\n",
    "cr = classification_report(y_test, y_pred_1)\n",
    "print(cr)"
   ]
  },
  {
   "cell_type": "markdown",
   "id": "93e8eda9",
   "metadata": {},
   "source": [
    "Initial confusion matrix"
   ]
  },
  {
   "cell_type": "code",
   "execution_count": 46,
   "id": "f55a095b",
   "metadata": {},
   "outputs": [
    {
     "name": "stdout",
     "output_type": "stream",
     "text": [
      "[[22  7]\n",
      " [ 3 28]]\n"
     ]
    },
    {
     "data": {
      "image/png": "[encoded data removed]",
      "text/plain": [
       "<Figure size 640x480 with 2 Axes>"
      ]
     },
     "metadata": {},
     "output_type": "display_data"
    }
   ],
   "source": [
    "\n",
    "from sklearn.metrics import confusion_matrix\n",
    "cm = confusion_matrix(y_test, y_pred_1)\n",
    "print(cm)\n",
    "\n",
    "\n",
    "import matplotlib.pyplot as plt\n",
    "import seaborn as sns\n",
    "sns.heatmap(cm, annot=True, fmt=\"d\") \n",
    "\n",
    "plt.title(\"Confusion Matrix\")\n",
    "plt.xlabel(\"Predicted\")\n",
    "plt.ylabel(\"Actual\")\n",
    "plt.show()"
   ]
  },
  {
   "cell_type": "markdown",
   "id": "919593e9",
   "metadata": {},
   "source": [
    "GridSearch_CV"
   ]
  },
  {
   "cell_type": "code",
   "execution_count": 47,
   "id": "43943b0d",
   "metadata": {},
   "outputs": [
    {
     "name": "stdout",
     "output_type": "stream",
     "text": [
      "Fitting 10 folds for each of 11880 candidates, totalling 118800 fits\n",
      "\n",
      "Tuned KNN Parameters: {'algorithm': 'ball_tree', 'leaf_size': 2, 'n_neighbors': 20, 'p': 1, 'weights': 'uniform'}\n",
      "Best score is 0.8538043478260869\n",
      "best estimator:  KNeighborsClassifier(algorithm='ball_tree', leaf_size=2, n_neighbors=20, p=1)\n"
     ]
    }
   ],
   "source": [
    "\n",
    "from sklearn.model_selection import GridSearchCV\n",
    "import numpy as np\n",
    "\n",
    "param_grid = {'n_neighbors': np.arange(1, 100), \n",
    "                'weights' : ['uniform', 'distance'],\n",
    "                'p': [1,2],\n",
    "                'algorithm': ['ball_tree', 'kd_tree', 'brute'], \n",
    "                'leaf_size': [2,3,4,5,10,15,16,18,20, 30],\n",
    "            }\n",
    "\n",
    "grid = GridSearchCV(KNeighborsClassifier(), param_grid, cv=10, scoring='accuracy', n_jobs=-1, verbose=1)\n",
    "\n",
    "knn_tuned = grid.fit(X_train, y_train)\n",
    "\n",
    "\n",
    "print(\"\\nTuned KNN Parameters: {}\".format(grid.best_params_))\n",
    "print(\"Best score is {}\".format(grid.best_score_))\n",
    "print(\"best estimator: \", knn_tuned.best_estimator_)"
   ]
  },
  {
   "cell_type": "markdown",
   "id": "98f40472",
   "metadata": {},
   "source": [
    " fINAL MODEL"
   ]
  },
  {
   "cell_type": "code",
   "execution_count": 48,
   "id": "430c2e6f",
   "metadata": {},
   "outputs": [
    {
     "name": "stdout",
     "output_type": "stream",
     "text": [
      "Accuracy: 0.8333333333333334\n",
      "Precision: 0.7837837837837838\n",
      "Recall: 0.9354838709677419\n",
      "F1 Score: 0.8529411764705881\n",
      "              precision    recall  f1-score   support\n",
      "\n",
      "           0       0.91      0.72      0.81        29\n",
      "           1       0.78      0.94      0.85        31\n",
      "\n",
      "    accuracy                           0.83        60\n",
      "   macro avg       0.85      0.83      0.83        60\n",
      "weighted avg       0.85      0.83      0.83        60\n",
      "\n"
     ]
    },
    {
     "name": "stderr",
     "output_type": "stream",
     "text": [
      "C:\\Users\\birad\\anaconda3\\lib\\site-packages\\sklearn\\neighbors\\_classification.py:228: FutureWarning: Unlike other reduction functions (e.g. `skew`, `kurtosis`), the default behavior of `mode` typically preserves the axis it acts along. In SciPy 1.11.0, this behavior will change: the default value of `keepdims` will become False, the `axis` over which the statistic is taken will be eliminated, and the value None will no longer be accepted. Set `keepdims` to True or False to avoid this warning.\n",
      "  mode, _ = stats.mode(_y[neigh_ind, k], axis=1)\n"
     ]
    }
   ],
   "source": [
    "\n",
    "from sklearn.neighbors import KNeighborsClassifier\n",
    "knn_tuned = KNeighborsClassifier(algorithm='ball_tree', leaf_size=2, n_neighbors=32, p=1, weights='uniform')\n",
    "\n",
    "knn_tuned.fit(X_train, y_train)\n",
    "\n",
    "y_pred = knn_tuned.predict(X_test)\n",
    "\n",
    "\n",
    "\n",
    "print(\"Accuracy:\", accuracy_score(y_test, y_pred))\n",
    "print(\"Precision:\", precision_score(y_test, y_pred))\n",
    "print(\"Recall:\", recall_score(y_test, y_pred))\n",
    "print(\"F1 Score:\", f1_score(y_test, y_pred))\n",
    "\n",
    "\n",
    "from sklearn.metrics import classification_report\n",
    "cr = classification_report(y_test, y_pred)\n",
    "print(cr)"
   ]
  },
  {
   "cell_type": "markdown",
   "id": "013665a1",
   "metadata": {},
   "source": [
    "FINAL COPNFUSION MATRIX"
   ]
  },
  {
   "cell_type": "code",
   "execution_count": 49,
   "id": "0bea5b38",
   "metadata": {},
   "outputs": [
    {
     "name": "stdout",
     "output_type": "stream",
     "text": [
      "[[21  8]\n",
      " [ 2 29]]\n"
     ]
    },
    {
     "data": {
      "image/png": "[encoded data removed]",
      "text/plain": [
       "<Figure size 640x480 with 2 Axes>"
      ]
     },
     "metadata": {},
     "output_type": "display_data"
    }
   ],
   "source": [
    "\n",
    "from sklearn.metrics import confusion_matrix\n",
    "cm = confusion_matrix(y_test, y_pred)\n",
    "print(cm)\n",
    "\n",
    "\n",
    "import matplotlib.pyplot as plt\n",
    "import seaborn as sns\n",
    "sns.heatmap(cm, annot=True, fmt=\"d\") \n",
    "plt.xlabel(\"Predicted\")\n",
    "plt.ylabel(\"Actual\")\n",
    "plt.show()"
   ]
  },
  {
   "cell_type": "markdown",
   "id": "7164b868",
   "metadata": {},
   "source": [
    "cROSS VALIDATION SCORES "
   ]
  },
  {
   "cell_type": "code",
   "execution_count": 50,
   "id": "32946dbd",
   "metadata": {},
   "outputs": [
    {
     "name": "stdout",
     "output_type": "stream",
     "text": [
      "Fold 0 : 0.8333333333333334\n",
      "Fold 1 : 0.9583333333333334\n",
      "Fold 2 : 0.875\n",
      "Fold 3 : 0.7916666666666666\n",
      "Fold 4 : 0.8333333333333334\n",
      "Fold 5 : 0.875\n",
      "Fold 6 : 0.75\n",
      "Fold 7 : 0.75\n",
      "Fold 8 : 0.875\n",
      "Fold 9 : 0.8260869565217391\n",
      "\n",
      "Mean: 0.8367753623188404\n",
      "Standard Deviation: 0.060326086956521745\n",
      "Variance: 0.003639236767485823\n"
     ]
    },
    {
     "name": "stderr",
     "output_type": "stream",
     "text": [
      "C:\\Users\\birad\\anaconda3\\lib\\site-packages\\sklearn\\neighbors\\_classification.py:228: FutureWarning: Unlike other reduction functions (e.g. `skew`, `kurtosis`), the default behavior of `mode` typically preserves the axis it acts along. In SciPy 1.11.0, this behavior will change: the default value of `keepdims` will become False, the `axis` over which the statistic is taken will be eliminated, and the value None will no longer be accepted. Set `keepdims` to True or False to avoid this warning.\n",
      "  mode, _ = stats.mode(_y[neigh_ind, k], axis=1)\n",
      "C:\\Users\\birad\\anaconda3\\lib\\site-packages\\sklearn\\neighbors\\_classification.py:228: FutureWarning: Unlike other reduction functions (e.g. `skew`, `kurtosis`), the default behavior of `mode` typically preserves the axis it acts along. In SciPy 1.11.0, this behavior will change: the default value of `keepdims` will become False, the `axis` over which the statistic is taken will be eliminated, and the value None will no longer be accepted. Set `keepdims` to True or False to avoid this warning.\n",
      "  mode, _ = stats.mode(_y[neigh_ind, k], axis=1)\n",
      "C:\\Users\\birad\\anaconda3\\lib\\site-packages\\sklearn\\neighbors\\_classification.py:228: FutureWarning: Unlike other reduction functions (e.g. `skew`, `kurtosis`), the default behavior of `mode` typically preserves the axis it acts along. In SciPy 1.11.0, this behavior will change: the default value of `keepdims` will become False, the `axis` over which the statistic is taken will be eliminated, and the value None will no longer be accepted. Set `keepdims` to True or False to avoid this warning.\n",
      "  mode, _ = stats.mode(_y[neigh_ind, k], axis=1)\n",
      "C:\\Users\\birad\\anaconda3\\lib\\site-packages\\sklearn\\neighbors\\_classification.py:228: FutureWarning: Unlike other reduction functions (e.g. `skew`, `kurtosis`), the default behavior of `mode` typically preserves the axis it acts along. In SciPy 1.11.0, this behavior will change: the default value of `keepdims` will become False, the `axis` over which the statistic is taken will be eliminated, and the value None will no longer be accepted. Set `keepdims` to True or False to avoid this warning.\n",
      "  mode, _ = stats.mode(_y[neigh_ind, k], axis=1)\n",
      "C:\\Users\\birad\\anaconda3\\lib\\site-packages\\sklearn\\neighbors\\_classification.py:228: FutureWarning: Unlike other reduction functions (e.g. `skew`, `kurtosis`), the default behavior of `mode` typically preserves the axis it acts along. In SciPy 1.11.0, this behavior will change: the default value of `keepdims` will become False, the `axis` over which the statistic is taken will be eliminated, and the value None will no longer be accepted. Set `keepdims` to True or False to avoid this warning.\n",
      "  mode, _ = stats.mode(_y[neigh_ind, k], axis=1)\n",
      "C:\\Users\\birad\\anaconda3\\lib\\site-packages\\sklearn\\neighbors\\_classification.py:228: FutureWarning: Unlike other reduction functions (e.g. `skew`, `kurtosis`), the default behavior of `mode` typically preserves the axis it acts along. In SciPy 1.11.0, this behavior will change: the default value of `keepdims` will become False, the `axis` over which the statistic is taken will be eliminated, and the value None will no longer be accepted. Set `keepdims` to True or False to avoid this warning.\n",
      "  mode, _ = stats.mode(_y[neigh_ind, k], axis=1)\n",
      "C:\\Users\\birad\\anaconda3\\lib\\site-packages\\sklearn\\neighbors\\_classification.py:228: FutureWarning: Unlike other reduction functions (e.g. `skew`, `kurtosis`), the default behavior of `mode` typically preserves the axis it acts along. In SciPy 1.11.0, this behavior will change: the default value of `keepdims` will become False, the `axis` over which the statistic is taken will be eliminated, and the value None will no longer be accepted. Set `keepdims` to True or False to avoid this warning.\n",
      "  mode, _ = stats.mode(_y[neigh_ind, k], axis=1)\n",
      "C:\\Users\\birad\\anaconda3\\lib\\site-packages\\sklearn\\neighbors\\_classification.py:228: FutureWarning: Unlike other reduction functions (e.g. `skew`, `kurtosis`), the default behavior of `mode` typically preserves the axis it acts along. In SciPy 1.11.0, this behavior will change: the default value of `keepdims` will become False, the `axis` over which the statistic is taken will be eliminated, and the value None will no longer be accepted. Set `keepdims` to True or False to avoid this warning.\n",
      "  mode, _ = stats.mode(_y[neigh_ind, k], axis=1)\n",
      "C:\\Users\\birad\\anaconda3\\lib\\site-packages\\sklearn\\neighbors\\_classification.py:228: FutureWarning: Unlike other reduction functions (e.g. `skew`, `kurtosis`), the default behavior of `mode` typically preserves the axis it acts along. In SciPy 1.11.0, this behavior will change: the default value of `keepdims` will become False, the `axis` over which the statistic is taken will be eliminated, and the value None will no longer be accepted. Set `keepdims` to True or False to avoid this warning.\n",
      "  mode, _ = stats.mode(_y[neigh_ind, k], axis=1)\n",
      "C:\\Users\\birad\\anaconda3\\lib\\site-packages\\sklearn\\neighbors\\_classification.py:228: FutureWarning: Unlike other reduction functions (e.g. `skew`, `kurtosis`), the default behavior of `mode` typically preserves the axis it acts along. In SciPy 1.11.0, this behavior will change: the default value of `keepdims` will become False, the `axis` over which the statistic is taken will be eliminated, and the value None will no longer be accepted. Set `keepdims` to True or False to avoid this warning.\n",
      "  mode, _ = stats.mode(_y[neigh_ind, k], axis=1)\n"
     ]
    }
   ],
   "source": [
    "\n",
    "from sklearn.model_selection import cross_val_score\n",
    "scores = cross_val_score(knn_clf, X_train, y_train, cv=10, scoring=\"accuracy\") #scorinf can be accuracy, precision, recall, f1, roc_auc, etc\n",
    "\n",
    "for i in range(10):\n",
    "    print(\"Fold\", i, \":\", scores[i])\n",
    "\n",
    "print(\"\\nMean:\", scores.mean())\n",
    "\n",
    "print(\"Standard Deviation:\", scores.std()) \n",
    "\n",
    "\n",
    "print(\"Variance:\", scores.var()) "
   ]
  },
  {
   "cell_type": "markdown",
   "id": "befd60e3",
   "metadata": {},
   "source": [
    "lEARNING CURVE"
   ]
  },
  {
   "cell_type": "code",
   "execution_count": 51,
   "id": "1773f630",
   "metadata": {},
   "outputs": [
    {
     "data": {
      "image/png": "[encoded data removed]",
      "text/plain": [
       "<Figure size 640x480 with 1 Axes>"
      ]
     },
     "metadata": {},
     "output_type": "display_data"
    }
   ],
   "source": [
    "\n",
    "from sklearn.model_selection import learning_curve\n",
    "train_sizes, train_scores, test_scores = learning_curve(knn_tuned, X_train, y_train, cv=5, scoring=\"accuracy\",n_jobs=-1, train_sizes=np.linspace(0.1,1.0,100))\n",
    "\n",
    "\n",
    "import matplotlib.pyplot as plt\n",
    "import numpy as np\n",
    "plt.plot(train_sizes, np.mean(train_scores, axis=1), label=\"Training Score\")\n",
    "plt.plot(train_sizes, np.mean(test_scores, axis=1), label=\"Cross-Validation Score\")\n",
    "plt.title(\"Learning Curve of KNN\")\n",
    "plt.xlabel(\"Training Set Size\")\n",
    "plt.ylabel(\"Accuracy Score\")\n",
    "plt.legend(loc=\"best\")\n",
    "plt.tight_layout() \n",
    "plt.show()\n",
    "\n"
   ]
  },
  {
   "cell_type": "code",
   "execution_count": null,
   "id": "73b4fb65",
   "metadata": {},
   "outputs": [],
   "source": []
  }
 ],
 "metadata": {
  "kernelspec": {
   "display_name": "Python 3 (ipykernel)",
   "language": "python",
   "name": "python3"
  },
  "language_info": {
   "codemirror_mode": {
    "name": "ipython",
    "version": 3
   },
   "file_extension": ".py",
   "mimetype": "text/x-python",
   "name": "python",
   "nbconvert_exporter": "python",
   "pygments_lexer": "ipython3",
   "version": "3.9.13"
  }
 },
 "nbformat": 4,
 "nbformat_minor": 5
}
