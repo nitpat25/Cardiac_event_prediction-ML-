{
 "cells": [
  {
   "cell_type": "code",
   "execution_count": 1,
   "id": "9c2db4d9",
   "metadata": {},
   "outputs": [],
   "source": [
    "import numpy as np\n",
    "import pandas as pd\n",
    "import matplotlib.pyplot as plt"
   ]
  },
  {
   "cell_type": "code",
   "execution_count": 2,
   "id": "c8e55a88",
   "metadata": {},
   "outputs": [],
   "source": [
    "filename=\"C:\\\\Users\\\\birad\\OneDrive\\\\Documents\\\\Heart_attack_Dataset_Kaggle_Notepad.csv\"\n",
    "df = pd.read_csv(filename)"
   ]
  },
  {
   "cell_type": "code",
   "execution_count": 3,
   "id": "176e79c5",
   "metadata": {},
   "outputs": [],
   "source": [
    "def Outliner_info(quart_v):\n",
    "    print(\"----------------for\",quart_v,\"-------------------\")\n",
    "    Q1,Q2,Q3 = df[quart_v].quantile([0.25,0.50,0.75]) \n",
    "    quartiles = [Q1,Q2,Q3]\n",
    "    IQR = Q3 - Q1\n",
    "    lower_b = Q1 - 1.5*IQR\n",
    "    upper_b = Q3 + 1.5*IQR\n",
    "    print([\"Q1\",\"Q2  \",\"Q3 \",\"IQR\",\"lower_b  \",\"upper_b\"])\n",
    "    print([Q1,Q2,Q3,IQR,lower_b,upper_b])\n",
    "    #value lesser than lower_b and values greater than upper_b are considered as outliners\n",
    "    lower_index = np.where(df[quart_v] <= lower_b)\n",
    "    upper_index = np.where(df[quart_v] >= upper_b)\n",
    "    print(\"index for lower outliners: \", lower_index)\n",
    "    print(\"index for upper outliners: \",upper_index) \n",
    "    mean = df[quart_v].mean()\n",
    "    print(\"mean of \",quart_v,\"=\",mean)\n",
    "    val_list = []\n",
    "    for val in df[quart_v]:\n",
    "        if val >= upper_b:\n",
    "            val_list.append(val)\n",
    "    print(\"val_list = \",val_list)   "
   ]
  },
  {
   "cell_type": "code",
   "execution_count": 4,
   "id": "e86fcc1f",
   "metadata": {},
   "outputs": [],
   "source": [
    "df1 = df.drop([85], axis = 0, inplace = False) \n",
    "df1.at[28,\"chol\"]= 369 \n",
    "df1.at[96,\"chol\"]= 369 \n",
    "df1.at[220,\"chol\"]= 369 \n",
    "df1.at[246,\"chol\"]= 369"
   ]
  },
  {
   "cell_type": "code",
   "execution_count": 5,
   "id": "ee3d99ee",
   "metadata": {},
   "outputs": [],
   "source": [
    "df1.drop([248,223], axis = 0, inplace = True)"
   ]
  },
  {
   "cell_type": "code",
   "execution_count": 6,
   "id": "9cd5303e",
   "metadata": {},
   "outputs": [],
   "source": [
    "temp_list = [  8, 101, 110, 152, 195, 203, 228, 241, 260, 266, 292]\n",
    "for i in temp_list:\n",
    "    df1.at[i,\"trtbps\"]=170"
   ]
  },
  {
   "cell_type": "code",
   "execution_count": 7,
   "id": "1b4f8a6d",
   "metadata": {},
   "outputs": [],
   "source": [
    "df1.at[272,\"thalachh\"] = 84"
   ]
  },
  {
   "cell_type": "code",
   "execution_count": 8,
   "id": "a3497fff",
   "metadata": {},
   "outputs": [],
   "source": [
    "temp_list1 = [101, 204, 220, 221, 250, 291, 295]\n",
    "for j in temp_list1:\n",
    "    df1.at[j,\"oldpeak\"]= 4.0"
   ]
  },
  {
   "cell_type": "code",
   "execution_count": 9,
   "id": "768ac336",
   "metadata": {},
   "outputs": [],
   "source": [
    "temp_list2 = [ 92, 158, 163, 164, 251]\n",
    "for k in temp_list2:\n",
    "    df1.at[k,\"caa\"]= 3"
   ]
  },
  {
   "cell_type": "code",
   "execution_count": 10,
   "id": "c6a07642",
   "metadata": {},
   "outputs": [],
   "source": [
    "df1.at[48,\"thall\"]=1\n",
    "df1.at[281,\"thall\"]=1"
   ]
  },
  {
   "cell_type": "code",
   "execution_count": 11,
   "id": "025356f7",
   "metadata": {},
   "outputs": [
    {
     "data": {
      "text/html": [
       "<div>\n",
       "<style scoped>\n",
       "    .dataframe tbody tr th:only-of-type {\n",
       "        vertical-align: middle;\n",
       "    }\n",
       "\n",
       "    .dataframe tbody tr th {\n",
       "        vertical-align: top;\n",
       "    }\n",
       "\n",
       "    .dataframe thead th {\n",
       "        text-align: right;\n",
       "    }\n",
       "</style>\n",
       "<table border=\"1\" class=\"dataframe\">\n",
       "  <thead>\n",
       "    <tr style=\"text-align: right;\">\n",
       "      <th></th>\n",
       "      <th>age</th>\n",
       "      <th>sex</th>\n",
       "      <th>cp</th>\n",
       "      <th>trtbps</th>\n",
       "      <th>chol</th>\n",
       "      <th>fbs</th>\n",
       "      <th>restecg</th>\n",
       "      <th>thalachh</th>\n",
       "      <th>exng</th>\n",
       "      <th>oldpeak</th>\n",
       "      <th>slp</th>\n",
       "      <th>caa</th>\n",
       "      <th>thall</th>\n",
       "      <th>output</th>\n",
       "    </tr>\n",
       "  </thead>\n",
       "  <tbody>\n",
       "    <tr>\n",
       "      <th>164</th>\n",
       "      <td>38</td>\n",
       "      <td>1</td>\n",
       "      <td>2</td>\n",
       "      <td>138</td>\n",
       "      <td>175</td>\n",
       "      <td>0</td>\n",
       "      <td>1</td>\n",
       "      <td>173</td>\n",
       "      <td>0</td>\n",
       "      <td>0.0</td>\n",
       "      <td>2</td>\n",
       "      <td>3</td>\n",
       "      <td>2</td>\n",
       "      <td>1</td>\n",
       "    </tr>\n",
       "  </tbody>\n",
       "</table>\n",
       "</div>"
      ],
      "text/plain": [
       "     age  sex  cp  trtbps  chol  fbs  restecg  thalachh  exng  oldpeak  slp  \\\n",
       "164   38    1   2     138   175    0        1       173     0      0.0    2   \n",
       "\n",
       "     caa  thall  output  \n",
       "164    3      2       1  "
      ]
     },
     "execution_count": 11,
     "metadata": {},
     "output_type": "execute_result"
    }
   ],
   "source": [
    "duplicate_rows = df1[df1.duplicated()]\n",
    "duplicate_rows"
   ]
  },
  {
   "cell_type": "code",
   "execution_count": 12,
   "id": "aef423c0",
   "metadata": {},
   "outputs": [],
   "source": [
    "df1.duplicated().sum()\n",
    "df1 = df1.drop_duplicates()"
   ]
  },
  {
   "cell_type": "code",
   "execution_count": 14,
   "id": "5653e475",
   "metadata": {},
   "outputs": [],
   "source": [
    "from sklearn.ensemble import AdaBoostClassifier\n",
    "from sklearn.tree import DecisionTreeClassifier\n",
    "from sklearn.model_selection import train_test_split, GridSearchCV\n",
    "from sklearn.metrics import accuracy_score\n",
    "from sklearn.preprocessing import StandardScaler"
   ]
  },
  {
   "cell_type": "code",
   "execution_count": 15,
   "id": "b61738fc",
   "metadata": {},
   "outputs": [],
   "source": [
    "# Load the dataset\n",
    "\n",
    "# Split the data into features and labels\n",
    "X = df1.iloc[:, :-1].values\n",
    "y = df1.iloc[:, -1].values\n",
    "\n",
    "# Split the data into training and testing sets\n",
    "X_train, X_test, y_train, y_test = train_test_split(X, y, test_size=0.1, random_state=42)\n",
    "\n",
    "# Scale the data using StandardScaler\n",
    "scaler = StandardScaler()\n",
    "X_train = scaler.fit_transform(X_train)\n",
    "X_test = scaler.transform(X_test)"
   ]
  },
  {
   "cell_type": "code",
   "execution_count": 16,
   "id": "a412fa3b",
   "metadata": {},
   "outputs": [
    {
     "name": "stdout",
     "output_type": "stream",
     "text": [
      "\n",
      "----------Initial Logistic Regression Metrics----------\n",
      "\n",
      "Accuracy: 0.9333333333333333\n",
      "Precision: 0.9444444444444444\n",
      "Recall: 0.9444444444444444\n",
      "F1 Score: 0.9444444444444444\n",
      "\n",
      "----------Initial Classification Report----------\n",
      "\n",
      "              precision    recall  f1-score   support\n",
      "\n",
      "           0       0.92      0.92      0.92        12\n",
      "           1       0.94      0.94      0.94        18\n",
      "\n",
      "    accuracy                           0.93        30\n",
      "   macro avg       0.93      0.93      0.93        30\n",
      "weighted avg       0.93      0.93      0.93        30\n",
      "\n"
     ]
    }
   ],
   "source": [
    "from sklearn.linear_model import LogisticRegression\n",
    "\n",
    "# train the model\n",
    "lr_1 = LogisticRegression()\n",
    "\n",
    "#fitting the model to the training set.\n",
    "lr_1.fit(X_train, y_train) \n",
    "\n",
    "# make predictions on the test dataset\n",
    "y_pred_1 = lr_1.predict(X_test)\n",
    "\n",
    "#---------------------------------Evaluating the model---------------------------------\n",
    "\n",
    "# Evaluate the model performance\n",
    "from sklearn.metrics import accuracy_score, precision_score, recall_score, f1_score\n",
    "print(\"\\n----------Initial Logistic Regression Metrics----------\\n\")\n",
    "print(\"Accuracy:\", accuracy_score(y_test, y_pred_1))\n",
    "print(\"Precision:\", precision_score(y_test, y_pred_1))\n",
    "print(\"Recall:\", recall_score(y_test, y_pred_1))\n",
    "print(\"F1 Score:\", f1_score(y_test, y_pred_1))\n",
    "#meaning of accuracy score: 0.9 means 90% of the predictions are correct\n",
    "\n",
    "#classification_report\n",
    "print(\"\\n----------Initial Classification Report----------\\n\")\n",
    "from sklearn.metrics import classification_report\n",
    "cr = classification_report(y_test, y_pred_1)\n",
    "print(cr)"
   ]
  },
  {
   "cell_type": "code",
   "execution_count": 17,
   "id": "e33c1bc6",
   "metadata": {},
   "outputs": [
    {
     "name": "stdout",
     "output_type": "stream",
     "text": [
      "\n",
      "best estimator:  LogisticRegression(C=0.01, random_state=42, solver='saga')\n",
      "best score:   0.8474126492702345\n"
     ]
    },
    {
     "name": "stderr",
     "output_type": "stream",
     "text": [
      "C:\\Users\\birad\\anaconda3\\lib\\site-packages\\sklearn\\model_selection\\_validation.py:372: FitFailedWarning: \n",
      "15 fits failed out of a total of 90.\n",
      "The score on these train-test partitions for these parameters will be set to nan.\n",
      "If these failures are not expected, you can try to debug them by setting error_score='raise'.\n",
      "\n",
      "Below are more details about the failures:\n",
      "--------------------------------------------------------------------------------\n",
      "15 fits failed with the following error:\n",
      "Traceback (most recent call last):\n",
      "  File \"C:\\Users\\birad\\anaconda3\\lib\\site-packages\\sklearn\\model_selection\\_validation.py\", line 680, in _fit_and_score\n",
      "    estimator.fit(X_train, y_train, **fit_params)\n",
      "  File \"C:\\Users\\birad\\anaconda3\\lib\\site-packages\\sklearn\\linear_model\\_logistic.py\", line 1461, in fit\n",
      "    solver = _check_solver(self.solver, self.penalty, self.dual)\n",
      "  File \"C:\\Users\\birad\\anaconda3\\lib\\site-packages\\sklearn\\linear_model\\_logistic.py\", line 434, in _check_solver\n",
      "    raise ValueError(\n",
      "ValueError: Logistic Regression supports only solvers in ['liblinear', 'newton-cg', 'lbfgs', 'sag', 'saga'], got newton-cholesky.\n",
      "\n",
      "  warnings.warn(some_fits_failed_message, FitFailedWarning)\n",
      "C:\\Users\\birad\\anaconda3\\lib\\site-packages\\sklearn\\model_selection\\_search.py:969: UserWarning: One or more of the test scores are non-finite: [0.82441118 0.70049956 0.70049956 0.70049956 0.70049956        nan\n",
      " 0.82441118 0.79757459 0.79757459 0.79757459 0.79757459        nan\n",
      " 0.84661174 0.84741265 0.84741265 0.84741265 0.84741265        nan]\n",
      "  warnings.warn(\n"
     ]
    }
   ],
   "source": [
    "\n",
    "\n",
    "#perform grid search to find the best parameters for the model\n",
    "#NOTE: Grid Search also performs cross validation to find the best parameters.\n",
    "\n",
    "from sklearn.model_selection import GridSearchCV\n",
    "#creating a dictionary of parameters to be used in the grid search:\n",
    "param_grid = {'C': [0.0001,0.001, 0.01],\n",
    "                'solver': ['liblinear','saga', 'sag', 'lbfgs', 'newton-cg','newton-cholesky'],\n",
    "                'max_iter': [100],\n",
    "                'random_state': [42]\n",
    "                }\n",
    "#creating an instance of the GridSearchCV class:\n",
    "grid = GridSearchCV(LogisticRegression(), param_grid, cv = 5, scoring='f1')\n",
    "\n",
    "#fitting the grid search to the training set:\n",
    "lr_tuned = grid.fit(X_train, y_train)\n",
    "#finding the best estimator:\n",
    "print(\"\\nbest estimator: \", lr_tuned.best_estimator_)\n",
    "#finding the best score:\n",
    "print(\"best score:  \", lr_tuned.best_score_)\n",
    "\n"
   ]
  },
  {
   "cell_type": "code",
   "execution_count": 25,
   "id": "312c419e",
   "metadata": {},
   "outputs": [
    {
     "name": "stdout",
     "output_type": "stream",
     "text": [
      "Accuracy: 0.9333333333333333\n",
      "Precision: 0.9444444444444444\n",
      "Recall: 0.9444444444444444\n",
      "F1 Score: 0.9444444444444444\n",
      "              precision    recall  f1-score   support\n",
      "\n",
      "           0       0.92      0.92      0.92        12\n",
      "           1       0.94      0.94      0.94        18\n",
      "\n",
      "    accuracy                           0.93        30\n",
      "   macro avg       0.93      0.93      0.93        30\n",
      "weighted avg       0.93      0.93      0.93        30\n",
      "\n"
     ]
    }
   ],
   "source": [
    "y_pred = lr_tuned.predict(X_test)\n",
    "from sklearn.metrics import accuracy_score, precision_score, recall_score, f1_score\n",
    "print(\"Accuracy:\", accuracy_score(y_test, y_pred))\n",
    "print(\"Precision:\", precision_score(y_test, y_pred))\n",
    "print(\"Recall:\", recall_score(y_test, y_pred))\n",
    "print(\"F1 Score:\", f1_score(y_test, y_pred))\n",
    "from sklearn.metrics import classification_report\n",
    "cr = classification_report(y_test, y_pred)\n",
    "print(cr)"
   ]
  },
  {
   "cell_type": "code",
   "execution_count": 26,
   "id": "8ed0a452",
   "metadata": {},
   "outputs": [
    {
     "name": "stdout",
     "output_type": "stream",
     "text": [
      "[[11  1]\n",
      " [ 1 17]]\n"
     ]
    },
    {
     "data": {
      "image/png": "[encoded data removed]",
      "text/plain": [
       "<Figure size 640x480 with 2 Axes>"
      ]
     },
     "metadata": {},
     "output_type": "display_data"
    }
   ],
   "source": [
    "from sklearn.metrics import confusion_matrix\n",
    "cm = confusion_matrix(y_test, y_pred)\n",
    "print(cm)\n",
    "import matplotlib.pyplot as plt\n",
    "import seaborn as sns\n",
    "sns.heatmap(cm, annot=True, fmt=\"d\") \n",
    "plt.title(\"Confusion Matrix\")\n",
    "plt.xlabel(\"Predicted\")\n",
    "plt.ylabel(\"Actual\")\n",
    "plt.show()"
   ]
  },
  {
   "cell_type": "code",
   "execution_count": 20,
   "id": "af8cb9f7",
   "metadata": {},
   "outputs": [
    {
     "name": "stderr",
     "output_type": "stream",
     "text": [
      "C:\\Users\\birad\\anaconda3\\lib\\site-packages\\sklearn\\model_selection\\_validation.py:372: FitFailedWarning: \n",
      "15 fits failed out of a total of 90.\n",
      "The score on these train-test partitions for these parameters will be set to nan.\n",
      "If these failures are not expected, you can try to debug them by setting error_score='raise'.\n",
      "\n",
      "Below are more details about the failures:\n",
      "--------------------------------------------------------------------------------\n",
      "15 fits failed with the following error:\n",
      "Traceback (most recent call last):\n",
      "  File \"C:\\Users\\birad\\anaconda3\\lib\\site-packages\\sklearn\\model_selection\\_validation.py\", line 680, in _fit_and_score\n",
      "    estimator.fit(X_train, y_train, **fit_params)\n",
      "  File \"C:\\Users\\birad\\anaconda3\\lib\\site-packages\\sklearn\\linear_model\\_logistic.py\", line 1461, in fit\n",
      "    solver = _check_solver(self.solver, self.penalty, self.dual)\n",
      "  File \"C:\\Users\\birad\\anaconda3\\lib\\site-packages\\sklearn\\linear_model\\_logistic.py\", line 434, in _check_solver\n",
      "    raise ValueError(\n",
      "ValueError: Logistic Regression supports only solvers in ['liblinear', 'newton-cg', 'lbfgs', 'sag', 'saga'], got newton-cholesky.\n",
      "\n",
      "  warnings.warn(some_fits_failed_message, FitFailedWarning)\n",
      "C:\\Users\\birad\\anaconda3\\lib\\site-packages\\sklearn\\model_selection\\_search.py:969: UserWarning: One or more of the test scores are non-finite: [0.83019962 0.69895495 0.69895495 0.69895495 0.69895495        nan\n",
      " 0.83019962 0.80306016 0.80306016 0.80306016 0.80306016        nan\n",
      " 0.84011181 0.83463102 0.83463102 0.83463102 0.83463102        nan]\n",
      "  warnings.warn(\n",
      "C:\\Users\\birad\\anaconda3\\lib\\site-packages\\sklearn\\model_selection\\_validation.py:372: FitFailedWarning: \n",
      "15 fits failed out of a total of 90.\n",
      "The score on these train-test partitions for these parameters will be set to nan.\n",
      "If these failures are not expected, you can try to debug them by setting error_score='raise'.\n",
      "\n",
      "Below are more details about the failures:\n",
      "--------------------------------------------------------------------------------\n",
      "15 fits failed with the following error:\n",
      "Traceback (most recent call last):\n",
      "  File \"C:\\Users\\birad\\anaconda3\\lib\\site-packages\\sklearn\\model_selection\\_validation.py\", line 680, in _fit_and_score\n",
      "    estimator.fit(X_train, y_train, **fit_params)\n",
      "  File \"C:\\Users\\birad\\anaconda3\\lib\\site-packages\\sklearn\\linear_model\\_logistic.py\", line 1461, in fit\n",
      "    solver = _check_solver(self.solver, self.penalty, self.dual)\n",
      "  File \"C:\\Users\\birad\\anaconda3\\lib\\site-packages\\sklearn\\linear_model\\_logistic.py\", line 434, in _check_solver\n",
      "    raise ValueError(\n",
      "ValueError: Logistic Regression supports only solvers in ['liblinear', 'newton-cg', 'lbfgs', 'sag', 'saga'], got newton-cholesky.\n",
      "\n",
      "  warnings.warn(some_fits_failed_message, FitFailedWarning)\n",
      "C:\\Users\\birad\\anaconda3\\lib\\site-packages\\sklearn\\model_selection\\_search.py:969: UserWarning: One or more of the test scores are non-finite: [0.83536313 0.69895495 0.69895495 0.69895495 0.69895495        nan\n",
      " 0.83536313 0.80411277 0.80411277 0.80411277 0.80411277        nan\n",
      " 0.84481485 0.85125313 0.85125313 0.85125313 0.85125313        nan]\n",
      "  warnings.warn(\n",
      "C:\\Users\\birad\\anaconda3\\lib\\site-packages\\sklearn\\model_selection\\_validation.py:372: FitFailedWarning: \n",
      "15 fits failed out of a total of 90.\n",
      "The score on these train-test partitions for these parameters will be set to nan.\n",
      "If these failures are not expected, you can try to debug them by setting error_score='raise'.\n",
      "\n",
      "Below are more details about the failures:\n",
      "--------------------------------------------------------------------------------\n",
      "15 fits failed with the following error:\n",
      "Traceback (most recent call last):\n",
      "  File \"C:\\Users\\birad\\anaconda3\\lib\\site-packages\\sklearn\\model_selection\\_validation.py\", line 680, in _fit_and_score\n",
      "    estimator.fit(X_train, y_train, **fit_params)\n",
      "  File \"C:\\Users\\birad\\anaconda3\\lib\\site-packages\\sklearn\\linear_model\\_logistic.py\", line 1461, in fit\n",
      "    solver = _check_solver(self.solver, self.penalty, self.dual)\n",
      "  File \"C:\\Users\\birad\\anaconda3\\lib\\site-packages\\sklearn\\linear_model\\_logistic.py\", line 434, in _check_solver\n",
      "    raise ValueError(\n",
      "ValueError: Logistic Regression supports only solvers in ['liblinear', 'newton-cg', 'lbfgs', 'sag', 'saga'], got newton-cholesky.\n",
      "\n",
      "  warnings.warn(some_fits_failed_message, FitFailedWarning)\n",
      "C:\\Users\\birad\\anaconda3\\lib\\site-packages\\sklearn\\model_selection\\_search.py:969: UserWarning: One or more of the test scores are non-finite: [0.83011659 0.69895495 0.69895495 0.69895495 0.69895495        nan\n",
      " 0.83345477 0.77833906 0.77833906 0.77833906 0.77833906        nan\n",
      " 0.8454541  0.8533104  0.8533104  0.8533104  0.8533104         nan]\n",
      "  warnings.warn(\n",
      "C:\\Users\\birad\\anaconda3\\lib\\site-packages\\sklearn\\model_selection\\_validation.py:372: FitFailedWarning: \n",
      "15 fits failed out of a total of 90.\n",
      "The score on these train-test partitions for these parameters will be set to nan.\n",
      "If these failures are not expected, you can try to debug them by setting error_score='raise'.\n",
      "\n",
      "Below are more details about the failures:\n",
      "--------------------------------------------------------------------------------\n",
      "15 fits failed with the following error:\n",
      "Traceback (most recent call last):\n",
      "  File \"C:\\Users\\birad\\anaconda3\\lib\\site-packages\\sklearn\\model_selection\\_validation.py\", line 680, in _fit_and_score\n",
      "    estimator.fit(X_train, y_train, **fit_params)\n",
      "  File \"C:\\Users\\birad\\anaconda3\\lib\\site-packages\\sklearn\\linear_model\\_logistic.py\", line 1461, in fit\n",
      "    solver = _check_solver(self.solver, self.penalty, self.dual)\n",
      "  File \"C:\\Users\\birad\\anaconda3\\lib\\site-packages\\sklearn\\linear_model\\_logistic.py\", line 434, in _check_solver\n",
      "    raise ValueError(\n",
      "ValueError: Logistic Regression supports only solvers in ['liblinear', 'newton-cg', 'lbfgs', 'sag', 'saga'], got newton-cholesky.\n",
      "\n",
      "  warnings.warn(some_fits_failed_message, FitFailedWarning)\n",
      "C:\\Users\\birad\\anaconda3\\lib\\site-packages\\sklearn\\model_selection\\_search.py:969: UserWarning: One or more of the test scores are non-finite: [0.82820513 0.69895495 0.69895495 0.69895495 0.69895495        nan\n",
      " 0.8327044  0.78562537 0.78562537 0.78562537 0.78562537        nan\n",
      " 0.83635879 0.84667114 0.84667114 0.84667114 0.84667114        nan]\n",
      "  warnings.warn(\n",
      "C:\\Users\\birad\\anaconda3\\lib\\site-packages\\sklearn\\model_selection\\_validation.py:372: FitFailedWarning: \n",
      "15 fits failed out of a total of 90.\n",
      "The score on these train-test partitions for these parameters will be set to nan.\n",
      "If these failures are not expected, you can try to debug them by setting error_score='raise'.\n",
      "\n",
      "Below are more details about the failures:\n",
      "--------------------------------------------------------------------------------\n",
      "15 fits failed with the following error:\n",
      "Traceback (most recent call last):\n",
      "  File \"C:\\Users\\birad\\anaconda3\\lib\\site-packages\\sklearn\\model_selection\\_validation.py\", line 680, in _fit_and_score\n",
      "    estimator.fit(X_train, y_train, **fit_params)\n",
      "  File \"C:\\Users\\birad\\anaconda3\\lib\\site-packages\\sklearn\\linear_model\\_logistic.py\", line 1461, in fit\n",
      "    solver = _check_solver(self.solver, self.penalty, self.dual)\n",
      "  File \"C:\\Users\\birad\\anaconda3\\lib\\site-packages\\sklearn\\linear_model\\_logistic.py\", line 434, in _check_solver\n",
      "    raise ValueError(\n",
      "ValueError: Logistic Regression supports only solvers in ['liblinear', 'newton-cg', 'lbfgs', 'sag', 'saga'], got newton-cholesky.\n",
      "\n",
      "  warnings.warn(some_fits_failed_message, FitFailedWarning)\n",
      "C:\\Users\\birad\\anaconda3\\lib\\site-packages\\sklearn\\model_selection\\_search.py:969: UserWarning: One or more of the test scores are non-finite: [0.81949322 0.69895495 0.69895495 0.69895495 0.69895495        nan\n",
      " 0.82344802 0.79054157 0.79054157 0.79054157 0.79054157        nan\n",
      " 0.83953575 0.85111013 0.85111013 0.85111013 0.85111013        nan]\n",
      "  warnings.warn(\n",
      "C:\\Users\\birad\\anaconda3\\lib\\site-packages\\sklearn\\model_selection\\_validation.py:372: FitFailedWarning: \n",
      "15 fits failed out of a total of 90.\n",
      "The score on these train-test partitions for these parameters will be set to nan.\n",
      "If these failures are not expected, you can try to debug them by setting error_score='raise'.\n",
      "\n",
      "Below are more details about the failures:\n",
      "--------------------------------------------------------------------------------\n",
      "15 fits failed with the following error:\n",
      "Traceback (most recent call last):\n",
      "  File \"C:\\Users\\birad\\anaconda3\\lib\\site-packages\\sklearn\\model_selection\\_validation.py\", line 680, in _fit_and_score\n",
      "    estimator.fit(X_train, y_train, **fit_params)\n",
      "  File \"C:\\Users\\birad\\anaconda3\\lib\\site-packages\\sklearn\\linear_model\\_logistic.py\", line 1461, in fit\n",
      "    solver = _check_solver(self.solver, self.penalty, self.dual)\n",
      "  File \"C:\\Users\\birad\\anaconda3\\lib\\site-packages\\sklearn\\linear_model\\_logistic.py\", line 434, in _check_solver\n",
      "    raise ValueError(\n",
      "ValueError: Logistic Regression supports only solvers in ['liblinear', 'newton-cg', 'lbfgs', 'sag', 'saga'], got newton-cholesky.\n",
      "\n",
      "  warnings.warn(some_fits_failed_message, FitFailedWarning)\n",
      "C:\\Users\\birad\\anaconda3\\lib\\site-packages\\sklearn\\model_selection\\_search.py:969: UserWarning: One or more of the test scores are non-finite: [0.81457875 0.70239355 0.70239355 0.70239355 0.70239355        nan\n",
      " 0.81457875 0.78335561 0.78335561 0.78335561 0.78335561        nan\n",
      " 0.82668635 0.85633969 0.85633969 0.85633969 0.85633969        nan]\n",
      "  warnings.warn(\n"
     ]
    },
    {
     "name": "stderr",
     "output_type": "stream",
     "text": [
      "C:\\Users\\birad\\anaconda3\\lib\\site-packages\\sklearn\\model_selection\\_validation.py:372: FitFailedWarning: \n",
      "15 fits failed out of a total of 90.\n",
      "The score on these train-test partitions for these parameters will be set to nan.\n",
      "If these failures are not expected, you can try to debug them by setting error_score='raise'.\n",
      "\n",
      "Below are more details about the failures:\n",
      "--------------------------------------------------------------------------------\n",
      "15 fits failed with the following error:\n",
      "Traceback (most recent call last):\n",
      "  File \"C:\\Users\\birad\\anaconda3\\lib\\site-packages\\sklearn\\model_selection\\_validation.py\", line 680, in _fit_and_score\n",
      "    estimator.fit(X_train, y_train, **fit_params)\n",
      "  File \"C:\\Users\\birad\\anaconda3\\lib\\site-packages\\sklearn\\linear_model\\_logistic.py\", line 1461, in fit\n",
      "    solver = _check_solver(self.solver, self.penalty, self.dual)\n",
      "  File \"C:\\Users\\birad\\anaconda3\\lib\\site-packages\\sklearn\\linear_model\\_logistic.py\", line 434, in _check_solver\n",
      "    raise ValueError(\n",
      "ValueError: Logistic Regression supports only solvers in ['liblinear', 'newton-cg', 'lbfgs', 'sag', 'saga'], got newton-cholesky.\n",
      "\n",
      "  warnings.warn(some_fits_failed_message, FitFailedWarning)\n",
      "C:\\Users\\birad\\anaconda3\\lib\\site-packages\\sklearn\\model_selection\\_search.py:969: UserWarning: One or more of the test scores are non-finite: [0.82433958 0.70239355 0.70239355 0.70239355 0.70239355        nan\n",
      " 0.83704374 0.79178672 0.78941622 0.79178672 0.79178672        nan\n",
      " 0.84203023 0.84871127 0.84871127 0.84871127 0.84871127        nan]\n",
      "  warnings.warn(\n",
      "C:\\Users\\birad\\anaconda3\\lib\\site-packages\\sklearn\\model_selection\\_validation.py:372: FitFailedWarning: \n",
      "15 fits failed out of a total of 90.\n",
      "The score on these train-test partitions for these parameters will be set to nan.\n",
      "If these failures are not expected, you can try to debug them by setting error_score='raise'.\n",
      "\n",
      "Below are more details about the failures:\n",
      "--------------------------------------------------------------------------------\n",
      "15 fits failed with the following error:\n",
      "Traceback (most recent call last):\n",
      "  File \"C:\\Users\\birad\\anaconda3\\lib\\site-packages\\sklearn\\model_selection\\_validation.py\", line 680, in _fit_and_score\n",
      "    estimator.fit(X_train, y_train, **fit_params)\n",
      "  File \"C:\\Users\\birad\\anaconda3\\lib\\site-packages\\sklearn\\linear_model\\_logistic.py\", line 1461, in fit\n",
      "    solver = _check_solver(self.solver, self.penalty, self.dual)\n",
      "  File \"C:\\Users\\birad\\anaconda3\\lib\\site-packages\\sklearn\\linear_model\\_logistic.py\", line 434, in _check_solver\n",
      "    raise ValueError(\n",
      "ValueError: Logistic Regression supports only solvers in ['liblinear', 'newton-cg', 'lbfgs', 'sag', 'saga'], got newton-cholesky.\n",
      "\n",
      "  warnings.warn(some_fits_failed_message, FitFailedWarning)\n",
      "C:\\Users\\birad\\anaconda3\\lib\\site-packages\\sklearn\\model_selection\\_search.py:969: UserWarning: One or more of the test scores are non-finite: [0.82103783 0.70239355 0.70239355 0.70239355 0.70239355        nan\n",
      " 0.83002331 0.78152503 0.78152503 0.78152503 0.78152503        nan\n",
      " 0.83716429 0.84765188 0.84765188 0.84765188 0.84765188        nan]\n",
      "  warnings.warn(\n",
      "C:\\Users\\birad\\anaconda3\\lib\\site-packages\\sklearn\\model_selection\\_validation.py:372: FitFailedWarning: \n",
      "15 fits failed out of a total of 90.\n",
      "The score on these train-test partitions for these parameters will be set to nan.\n",
      "If these failures are not expected, you can try to debug them by setting error_score='raise'.\n",
      "\n",
      "Below are more details about the failures:\n",
      "--------------------------------------------------------------------------------\n",
      "15 fits failed with the following error:\n",
      "Traceback (most recent call last):\n",
      "  File \"C:\\Users\\birad\\anaconda3\\lib\\site-packages\\sklearn\\model_selection\\_validation.py\", line 680, in _fit_and_score\n",
      "    estimator.fit(X_train, y_train, **fit_params)\n",
      "  File \"C:\\Users\\birad\\anaconda3\\lib\\site-packages\\sklearn\\linear_model\\_logistic.py\", line 1461, in fit\n",
      "    solver = _check_solver(self.solver, self.penalty, self.dual)\n",
      "  File \"C:\\Users\\birad\\anaconda3\\lib\\site-packages\\sklearn\\linear_model\\_logistic.py\", line 434, in _check_solver\n",
      "    raise ValueError(\n",
      "ValueError: Logistic Regression supports only solvers in ['liblinear', 'newton-cg', 'lbfgs', 'sag', 'saga'], got newton-cholesky.\n",
      "\n",
      "  warnings.warn(some_fits_failed_message, FitFailedWarning)\n",
      "C:\\Users\\birad\\anaconda3\\lib\\site-packages\\sklearn\\model_selection\\_search.py:969: UserWarning: One or more of the test scores are non-finite: [0.81970317 0.70239355 0.70239355 0.70239355 0.70239355        nan\n",
      " 0.82677351 0.77313939 0.77313939 0.77313939 0.77313939        nan\n",
      " 0.82943528 0.83847596 0.83847596 0.83847596 0.83847596        nan]\n",
      "  warnings.warn(\n"
     ]
    },
    {
     "name": "stdout",
     "output_type": "stream",
     "text": [
      "Fold 0 : 0.8823529411764706\n",
      "Fold 1 : 0.7878787878787877\n",
      "Fold 2 : 0.8666666666666667\n",
      "Fold 3 : 0.8387096774193549\n",
      "Fold 4 : 0.8749999999999999\n",
      "Fold 5 : 0.8387096774193549\n",
      "Fold 6 : 0.7741935483870968\n",
      "Fold 7 : 0.8666666666666666\n",
      "Fold 8 : 0.896551724137931\n",
      "Fold 9 : 0.8387096774193549\n",
      "\n",
      "Mean: 0.8465439367171683\n",
      "Standard Deviation: 0.03776634069891011\n",
      "Variance: 0.0014262964897861544\n"
     ]
    },
    {
     "name": "stderr",
     "output_type": "stream",
     "text": [
      "C:\\Users\\birad\\anaconda3\\lib\\site-packages\\sklearn\\model_selection\\_validation.py:372: FitFailedWarning: \n",
      "15 fits failed out of a total of 90.\n",
      "The score on these train-test partitions for these parameters will be set to nan.\n",
      "If these failures are not expected, you can try to debug them by setting error_score='raise'.\n",
      "\n",
      "Below are more details about the failures:\n",
      "--------------------------------------------------------------------------------\n",
      "15 fits failed with the following error:\n",
      "Traceback (most recent call last):\n",
      "  File \"C:\\Users\\birad\\anaconda3\\lib\\site-packages\\sklearn\\model_selection\\_validation.py\", line 680, in _fit_and_score\n",
      "    estimator.fit(X_train, y_train, **fit_params)\n",
      "  File \"C:\\Users\\birad\\anaconda3\\lib\\site-packages\\sklearn\\linear_model\\_logistic.py\", line 1461, in fit\n",
      "    solver = _check_solver(self.solver, self.penalty, self.dual)\n",
      "  File \"C:\\Users\\birad\\anaconda3\\lib\\site-packages\\sklearn\\linear_model\\_logistic.py\", line 434, in _check_solver\n",
      "    raise ValueError(\n",
      "ValueError: Logistic Regression supports only solvers in ['liblinear', 'newton-cg', 'lbfgs', 'sag', 'saga'], got newton-cholesky.\n",
      "\n",
      "  warnings.warn(some_fits_failed_message, FitFailedWarning)\n",
      "C:\\Users\\birad\\anaconda3\\lib\\site-packages\\sklearn\\model_selection\\_search.py:969: UserWarning: One or more of the test scores are non-finite: [0.82629354 0.70051968 0.70051968 0.70051968 0.70051968        nan\n",
      " 0.8309057  0.79404146 0.79404146 0.79404146 0.79404146        nan\n",
      " 0.8380784  0.83812174 0.83812174 0.83812174 0.83812174        nan]\n",
      "  warnings.warn(\n"
     ]
    }
   ],
   "source": [
    "from sklearn.model_selection import cross_val_score\n",
    "scores = cross_val_score(lr_tuned, X_train, y_train, cv=10, scoring=\"f1\") \n",
    "for i in range(10):\n",
    "    print(\"Fold\", i, \":\", scores[i])\n",
    "print(\"\\nMean:\", scores.mean())\n",
    "print(\"Standard Deviation:\", scores.std())\n",
    "print(\"Variance:\", scores.var())"
   ]
  },
  {
   "cell_type": "code",
   "execution_count": 21,
   "id": "d1346fdc",
   "metadata": {},
   "outputs": [
    {
     "data": {
      "image/png": "[encoded data removed]",
      "text/plain": [
       "<Figure size 640x480 with 1 Axes>"
      ]
     },
     "metadata": {},
     "output_type": "display_data"
    }
   ],
   "source": [
    "from sklearn.model_selection import learning_curve\n",
    "import numpy as np\n",
    "train_sizes, train_scores, test_scores = learning_curve(lr_tuned, X_train, y_train, cv=10, scoring=\"recall\",n_jobs=-1, train_sizes=np.linspace(0.1,1.0,4))\n",
    "import matplotlib.pyplot as plt\n",
    "plt.plot(train_sizes, np.mean(train_scores, axis=1), label=\"Training Score\")\n",
    "plt.plot(train_sizes, np.mean(test_scores, axis=1), label=\"Cross-Validation Score\")\n",
    "plt.title(\"Learning Curve of Logistic Regression\")\n",
    "plt.xlabel(\"Training Set Size\")\n",
    "plt.ylabel(\"Recall Score\")\n",
    "plt.legend(loc=\"best\")\n",
    "plt.tight_layout() \n",
    "plt.show()"
   ]
  },
  {
   "cell_type": "code",
   "execution_count": null,
   "id": "19f5fcb8",
   "metadata": {},
   "outputs": [],
   "source": []
  }
 ],
 "metadata": {
  "kernelspec": {
   "display_name": "Python 3 (ipykernel)",
   "language": "python",
   "name": "python3"
  },
  "language_info": {
   "codemirror_mode": {
    "name": "ipython",
    "version": 3
   },
   "file_extension": ".py",
   "mimetype": "text/x-python",
   "name": "python",
   "nbconvert_exporter": "python",
   "pygments_lexer": "ipython3",
   "version": "3.9.13"
  }
 },
 "nbformat": 4,
 "nbformat_minor": 5
}
